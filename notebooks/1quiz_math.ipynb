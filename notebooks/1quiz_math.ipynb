{
 "cells": [
  {
   "cell_type": "markdown",
   "metadata": {
    "collapsed": true
   },
   "source": [
    "# Quiz 1"
   ]
  },
  {
   "cell_type": "code",
   "execution_count": null,
   "metadata": {
    "collapsed": false
   },
   "outputs": [],
   "source": [
    "def quiz1():\n",
    "    # TODO: Return (1/20) - 10 using TensorFlow\n",
    "    pass\n",
    "\n",
    "\n",
    "result = quiz1()\n",
    "if result == (1/20) - 10:\n",
    "    print('That\\'s Correct!')\n",
    "else:\n",
    "    print('That\\'s not correct.  You returned {}'.format(result))"
   ]
  }
 ],
 "metadata": {
  "kernelspec": {
   "display_name": "Python 3",
   "language": "python",
   "name": "python3"
  },
  "language_info": {
   "codemirror_mode": {
    "name": "ipython",
    "version": 3
   },
   "file_extension": ".py",
   "mimetype": "text/x-python",
   "name": "python",
   "nbconvert_exporter": "python",
   "pygments_lexer": "ipython3",
   "version": "3.6.0"
  }
 },
 "nbformat": 4,
 "nbformat_minor": 0
}
