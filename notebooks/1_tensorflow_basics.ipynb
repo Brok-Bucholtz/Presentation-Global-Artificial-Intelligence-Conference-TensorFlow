{
 "cells": [
  {
   "cell_type": "markdown",
   "metadata": {
    "collapsed": true
   },
   "source": [
    "# TensorFlow Basics\n",
    "## Tensors\n",
    "Nodes of a Graph"
   ]
  },
  {
   "cell_type": "code",
   "execution_count": null,
   "metadata": {
    "collapsed": false
   },
   "outputs": [],
   "source": [
    "import tensorflow as tf\n",
    "\n",
    "def tensors():\n",
    "    print('Tensor:')\n",
    "    print(tf.constant(10))\n",
    "    \n",
    "    print('\\nNamed Tensors:')\n",
    "    print(tf.constant(10, name='named_tensor'))\n",
    "    print(tf.constant(10, name='other_tensor'))\n",
    "    \n",
    "    print('\\nUsing the Same name:')\n",
    "    print(tf.constant(10, name='named_tensor'))\n",
    "    \n",
    "    print('\\nFloat Tensor:')\n",
    "    print(tf.constant(10, dtype=tf.float32))\n",
    "    \n",
    "    print('\\nN-D Tensor:')\n",
    "    print(tf.constant([1,2,3,4]))\n",
    "    print(tf.constant([[1,2],[3,4],[5,6]]))\n",
    "    \n",
    "    x = tf.constant(10)\n",
    "    y = tf.constant(2)\n",
    "    \n",
    "    print('\\nTensor from multiplication:')\n",
    "    print(tf.multiply(x, y))\n",
    "    \n",
    "tensors()"
   ]
  },
  {
   "cell_type": "markdown",
   "metadata": {},
   "source": [
    "<img src=\"images/default_graph.png\" width=50%>\n",
    "## Graphs\n",
    "Computational Graph"
   ]
  },
  {
   "cell_type": "code",
   "execution_count": null,
   "metadata": {
    "collapsed": false
   },
   "outputs": [],
   "source": [
    "def use_new_graph():\n",
    "    # Create a TensorFlow graph\n",
    "    graph_g = tf.Graph()\n",
    "    \n",
    "    # Using Graph graph_g\n",
    "    with graph_g.as_default():\n",
    "        a = tf.constant(10)\n",
    "        b = tf.constant(2)\n",
    "        c = tf.multiply(a, b)\n",
    "        \n",
    "    # Assert that c got added to graph_g\n",
    "    assert c.graph == graph_g\n",
    "    \n",
    "    # Run session using graph_g\n",
    "    with tf.Session(graph=graph_g) as sess:\n",
    "        c_out = sess.run(c)\n",
    "        print('Output from running tensor \"c\" in graph \"graph_g\"')\n",
    "        print(c_out)\n",
    "\n",
    "def use_default_graph():\n",
    "    # Using default graph\n",
    "    d = tf.constant(10)\n",
    "    e = tf.constant(5)\n",
    "    f = tf.multiply(d, e)\n",
    "\n",
    "    # Assert that f got added to the default graph\n",
    "    assert f.graph == tf.get_default_graph()\n",
    "\n",
    "    # Run session using the default graph\n",
    "    with tf.Session() as sess:\n",
    "        f_out = sess.run(f)\n",
    "        print('Output from running tensor \"f\" in the default graph')\n",
    "        print(f_out)\n",
    "\n",
    "use_new_graph()\n",
    "use_default_graph()"
   ]
  },
  {
   "cell_type": "markdown",
   "metadata": {},
   "source": [
    "<img src=\"images/graph_g.png\" width=50%>\n",
    "<img src=\"images/default_graph_mul.png\" width=50%>\n",
    "## Session\n",
    "Environment for the Graph"
   ]
  },
  {
   "cell_type": "code",
   "execution_count": null,
   "metadata": {
    "collapsed": false
   },
   "outputs": [],
   "source": [
    "def session():\n",
    "    # Run on CPU 0\n",
    "    with tf.device('/cpu:0'):\n",
    "        a = tf.constant(10)\n",
    "        b = tf.constant(5)\n",
    "        c = tf.multiply(a, b)\n",
    "\n",
    "    # Run on CPU 0 as well, but this could be any resource including a different computer\n",
    "    with tf.device('/cpu:0'):\n",
    "        d = tf.constant(10)\n",
    "        e = tf.constant(5)\n",
    "        f = tf.multiply(a, b)\n",
    "\n",
    "    # Run on default device\n",
    "    g = tf.add(c, f)\n",
    "\n",
    "    print('g type: {}'.format(type(g)))\n",
    "\n",
    "    # Execute graph\n",
    "    with tf.Session() as sess:\n",
    "        out = sess.run(g)\n",
    "        print('out type: {}'.format(type(out)))\n",
    "        print('out: {}'.format(out))\n",
    "\n",
    "session()"
   ]
  },
  {
   "cell_type": "markdown",
   "metadata": {},
   "source": [
    "## Math Operations"
   ]
  },
  {
   "cell_type": "code",
   "execution_count": null,
   "metadata": {
    "collapsed": false
   },
   "outputs": [],
   "source": [
    "def math_operations():\n",
    "    a = tf.constant(10)\n",
    "    b = tf.constant(5)\n",
    "\n",
    "    # The calling tf math operations are only required over *, -, etc. when no inputs are Tensors\n",
    "    c = tf.multiply(a, b)\n",
    "    d = a * b\n",
    "    e = a * 5\n",
    "    f = 10 * b\n",
    "    g = tf.multiply(10, 5)\n",
    "    h = 10 * 5\n",
    "\n",
    "    print('c type: {}'.format(type(c)))\n",
    "    print('d type: {}'.format(type(d)))\n",
    "    print('e type: {}'.format(type(e)))\n",
    "    print('f type: {}'.format(type(f)))\n",
    "    print('g type: {}'.format(type(g)))\n",
    "    print('h type: {}'.format(type(h)))\n",
    "\n",
    "    with tf.Session() as sess:\n",
    "        c_out = sess.run(c)\n",
    "        d_out = sess.run(d)\n",
    "        e_out = sess.run(e)\n",
    "        f_out = sess.run(f)\n",
    "        g_out = sess.run(g)\n",
    "\n",
    "        # Make sure they are the same results\n",
    "        assert c_out == d_out and c_out == e_out and c_out == f_out and c_out == g_out\n",
    "        print('All TensorFlow Results: {}'.format(c_out))\n",
    "\n",
    "math_operations()"
   ]
  },
  {
   "cell_type": "markdown",
   "metadata": {},
   "source": [
    "## Save Weights\n",
    "Save Session Variables"
   ]
  },
  {
   "cell_type": "code",
   "execution_count": null,
   "metadata": {
    "collapsed": false
   },
   "outputs": [],
   "source": [
    "save_path = './1_tensorflow_basics'\n",
    "\n",
    "def save(save_path):\n",
    "    v1 = tf.Variable(tf.random_normal((1, 3)), name=\"v1\")\n",
    "    v2 = tf.Variable(tf.random_normal((1, 3)), name=\"v2\")\n",
    "\n",
    "    saver = tf.train.Saver()\n",
    "\n",
    "    with tf.Session() as sess:\n",
    "        sess.run(tf.global_variables_initializer())\n",
    "        print('v1: {}'.format(sess.run(v1)))\n",
    "        print('v2: {}'.format(sess.run(v2)))\n",
    "        save_path = saver.save(sess, save_path)\n",
    "\n",
    "save(save_path)"
   ]
  },
  {
   "cell_type": "markdown",
   "metadata": {},
   "source": [
    "## Load Weights\n",
    "Load Session Variables"
   ]
  },
  {
   "cell_type": "code",
   "execution_count": null,
   "metadata": {
    "collapsed": false
   },
   "outputs": [],
   "source": [
    "def load(save_path):\n",
    "    tf.reset_default_graph()\n",
    "    v1 = tf.Variable(tf.random_normal((1, 3)), name=\"v1\")\n",
    "    v2 = tf.Variable(tf.random_normal((1, 3)), name=\"v2\")\n",
    "\n",
    "    saver = tf.train.Saver()\n",
    "\n",
    "    with tf.Session() as sess:\n",
    "        saver.restore(sess, save_path)\n",
    "        print('v1: {}'.format(sess.run(v1)))\n",
    "        print('v2: {}'.format(sess.run(v2)))\n",
    "        \n",
    "load(save_path)"
   ]
  }
 ],
 "metadata": {
  "kernelspec": {
   "display_name": "Python 3",
   "language": "python",
   "name": "python3"
  },
  "language_info": {
   "codemirror_mode": {
    "name": "ipython",
    "version": 3
   },
   "file_extension": ".py",
   "mimetype": "text/x-python",
   "name": "python",
   "nbconvert_exporter": "python",
   "pygments_lexer": "ipython3",
   "version": "3.6.0"
  }
 },
 "nbformat": 4,
 "nbformat_minor": 0
}
